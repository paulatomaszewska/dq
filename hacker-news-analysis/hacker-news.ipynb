{
 "cells": [
  {
   "cell_type": "markdown",
   "metadata": {},
   "source": [
    "We'll compare these two types of posts to determine the following:\n",
    "\n",
    "Do Ask HN or Show HN receive more comments on average?\\\n",
    "Do posts created at a certain time receive more comments on average?\n"
   ]
  },
  {
   "cell_type": "code",
   "execution_count": 9,
   "metadata": {},
   "outputs": [
    {
     "name": "stdout",
     "output_type": "stream",
     "text": [
      "['id', 'title', 'url', 'num_points', 'num_comments', 'author', 'created_at']\n"
     ]
    }
   ],
   "source": [
    "\n",
    "from csv import reader\n",
    "\n",
    "\n",
    "hacker_news_dataset = list(reader(open(\"hacker_news.csv\")))\n",
    "headers = hacker_news_dataset[0]\n",
    "hacker_news_posts = hacker_news_dataset[1:]\n",
    "\n",
    "ask_posts = []\n",
    "show_posts = []\n",
    "other_posts = []\n",
    "\n",
    "for post in hacker_news_posts:\n",
    "    \n",
    "    post_title = post[1].lower()\n",
    "\n",
    "    if post_title.startswith(\"ask hn\"):\n",
    "        ask_posts.append(post)\n",
    "    elif post_title.startswith(\"show hn\"):\n",
    "        show_posts.append(post)\n",
    "    else:\n",
    "        other_posts.append(post)\n",
    "\n",
    "print(headers)"
   ]
  },
  {
   "cell_type": "markdown",
   "metadata": {},
   "source": [
    "Which type of posts receives more comments on average?"
   ]
  },
  {
   "cell_type": "code",
   "execution_count": 8,
   "metadata": {},
   "outputs": [
    {
     "name": "stdout",
     "output_type": "stream",
     "text": [
      "14\n",
      "10\n"
     ]
    }
   ],
   "source": [
    "def count_average_number_of_comments_for(dataset):\n",
    "    sum_of_comments = 0\n",
    "    count_of_posts = 0\n",
    "\n",
    "    for post in dataset:\n",
    "        comments_number = int(post[4])\n",
    "        sum_of_comments += comments_number\n",
    "        count_of_posts += 1\n",
    "\n",
    "    return round(sum_of_comments / count_of_posts)\n",
    "\n",
    "avg_ask_posts_comments = count_average_number_of_comments_for(ask_posts)\n",
    "avg_show_posts_comments = count_average_number_of_comments_for(show_posts)\n",
    "\n",
    "print(avg_ask_posts_comments)\n",
    "print(avg_show_posts_comments)"
   ]
  },
  {
   "cell_type": "markdown",
   "metadata": {},
   "source": [
    "On average, the \"ask HN\" posts receive more comments than \"show HN\". It might mean that people prefer to show how smart they are instead of looking at other people's work 😁"
   ]
  },
  {
   "cell_type": "markdown",
   "metadata": {},
   "source": [
    "Since \"ask HN\" is more often commented, I'll explore this dataset further. Now I'd like to see if posts created at a certain hour of the day have a higher chance of receiving comments."
   ]
  },
  {
   "cell_type": "code",
   "execution_count": 35,
   "metadata": {},
   "outputs": [
    {
     "name": "stdout",
     "output_type": "stream",
     "text": [
      "(15, 39)\n",
      "15:00: 39 average comments per post\n",
      "(2, 24)\n",
      "2:00: 24 average comments per post\n",
      "(20, 22)\n",
      "20:00: 22 average comments per post\n",
      "(16, 17)\n",
      "16:00: 17 average comments per post\n",
      "(21, 16)\n",
      "21:00: 16 average comments per post\n"
     ]
    }
   ],
   "source": [
    "import datetime\n",
    "\n",
    "posts_comments_per_hour = {}\n",
    "average_comments_per_hour = {}\n",
    "\n",
    "for post in ask_posts:\n",
    "    number_of_comments = int(post[4])\n",
    "    time_created = datetime.datetime.strptime(post[6], \"%m/%d/%Y %H:%M\")\n",
    "    hour_created = time_created.hour\n",
    "\n",
    "    if hour_created in posts_comments_per_hour:\n",
    "        posts_comments_per_hour[hour_created][\"comments\"] += number_of_comments\n",
    "        posts_comments_per_hour[hour_created][\"posts\"] += 1\n",
    "    else:\n",
    "        posts_comments_per_hour[hour_created] = {\"comments\": number_of_comments, \"posts\": 1}\n",
    "\n",
    "for hour_with_comments, posts_comments in posts_comments_per_hour.items():\n",
    "    average_comments_per_hour[hour_with_comments] = round(posts_comments[\"comments\"] / posts_comments[\"posts\"])\n",
    "\n",
    "hours_with_most_comments = sorted(average_comments_per_hour.items(), key=lambda x: x[1], reverse=True)[:5]\n",
    "\n",
    "for hour_with_comments in hours_with_most_comments:\n",
    "    print(hour_with_comments)\n",
    "    print(f\"{hour_with_comments[0]}:00: {hour_with_comments[1]} average comments per post\")"
   ]
  },
  {
   "cell_type": "code",
   "execution_count": null,
   "metadata": {},
   "outputs": [],
   "source": []
  }
 ],
 "metadata": {
  "kernelspec": {
   "display_name": "Python 3",
   "language": "python",
   "name": "python3"
  },
  "language_info": {
   "codemirror_mode": {
    "name": "ipython",
    "version": 3
   },
   "file_extension": ".py",
   "mimetype": "text/x-python",
   "name": "python",
   "nbconvert_exporter": "python",
   "pygments_lexer": "ipython3",
   "version": "3.12.3"
  }
 },
 "nbformat": 4,
 "nbformat_minor": 2
}
